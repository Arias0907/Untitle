{
  "nbformat": 4,
  "nbformat_minor": 0,
  "metadata": {
    "colab": {
      "name": "Untitle1.ipynb",
      "version": "0.3.2",
      "provenance": [],
      "include_colab_link": true
    },
    "kernelspec": {
      "name": "python3",
      "display_name": "Python 3"
    }
  },
  "cells": [
    {
      "cell_type": "markdown",
      "metadata": {
        "id": "view-in-github",
        "colab_type": "text"
      },
      "source": [
        "<a href=\"https://colab.research.google.com/github/Arias0907/Untitle/blob/master/Untitle1.ipynb\" target=\"_parent\"><img src=\"https://colab.research.google.com/assets/colab-badge.svg\" alt=\"Open In Colab\"/></a>"
      ]
    },
    {
      "cell_type": "code",
      "metadata": {
        "id": "0S3k6PCKTotJ",
        "colab_type": "code",
        "colab": {}
      },
      "source": [
        "from google.colab import drive\n",
        "drive.mount('/content/drive')"
      ],
      "execution_count": 0,
      "outputs": []
    },
    {
      "cell_type": "code",
      "metadata": {
        "id": "XfcsFtXeTrb6",
        "colab_type": "code",
        "colab": {}
      },
      "source": [
        "import numpy as np\n",
        "import matplotlib.pyplot as plt\n",
        "import cv2\n",
        "import os\n",
        "\n",
        "path='/content/drive/My Drive/PDI/Interpolacion'\n",
        "os.chdir(path)\n",
        "!pwd\n",
        "# graficar imagenes estaticas en el notebook\n",
        "\n",
        "%matplotlib inline\n"
      ],
      "execution_count": 0,
      "outputs": []
    },
    {
      "cell_type": "code",
      "metadata": {
        "id": "1CSMz4h3TwM5",
        "colab_type": "code",
        "colab": {}
      },
      "source": [
        "def displayGray3(a,b,c, title1 = \"Original\", title2 = \"Edited\", title3 = \"Edited\"):\n",
        "    plt.figure(figsize=(3,3))\n",
        "    plt.subplot(131), plt.imshow(a), plt.title(title1)\n",
        "    plt.xticks([]), plt.yticks([])\n",
        "    plt.subplot(132), plt.imshow(b, cmap='gray'), plt.title(title2)\n",
        "    plt.xticks([]), plt.yticks([])\n",
        "    plt.subplot(133), plt.imshow(c, cmap = 'gray'), plt.title(title3)\n",
        "    plt.xticks([]), plt.yticks([])\n",
        "    plt.show()\n",
        "    \n",
        "def displayGray2(a,b, title1 = \"Original\", title2 = \"Edited\"):\n",
        "    plt.figure(figsize=(10,10))\n",
        "    plt.subplot(121), plt.imshow(a, cmap='gray'), plt.title(title1)\n",
        "    plt.xticks([]), plt.yticks([])\n",
        "    plt.subplot(122), plt.imshow(b, cmap='gray'), plt.title(title2)\n",
        "    plt.xticks([]), plt.yticks([])\n",
        "    plt.show()\n",
        "    \n",
        "def displayColor3(a,b,c, title1 = \"Original\", title2 = \"Edited\", title3 = \"Edited\"):\n",
        "    plt.figure(figsize=(10,10))\n",
        "    plt.subplot(131), plt.imshow(a), plt.title(title1)\n",
        "    plt.xticks([]), plt.yticks([])\n",
        "    plt.subplot(132), plt.imshow(b), plt.title(title2)\n",
        "    plt.xticks([]), plt.yticks([])\n",
        "    plt.subplot(133), plt.imshow(c), plt.title(title3)\n",
        "    plt.xticks([]), plt.yticks([])\n",
        "    plt.show()\n",
        "    \n",
        "def displayColor2(a,b, title1 = \"Original\", title2 = \"Edited\"):\n",
        "    plt.figure(figsize=(10,10))\n",
        "    plt.subplot(131), plt.imshow(a), plt.title(title1)\n",
        "    plt.xticks([]), plt.yticks([])\n",
        "    plt.subplot(132), plt.imshow(b), plt.title(title2)\n",
        "    plt.xticks([]), plt.yticks([])\n",
        "    plt.show()\n",
        "    \n",
        "def readRGB(imgPath):\n",
        "    img = cv2.imread(imgPath)\n",
        "    img = cv2.cvtColor(img,cv2.COLOR_BGR2RGB)\n",
        "    return img"
      ],
      "execution_count": 0,
      "outputs": []
    },
    {
      "cell_type": "code",
      "metadata": {
        "id": "ONRdGZwhTyWh",
        "colab_type": "code",
        "colab": {}
      },
      "source": [
        "imgA = readRGB('apple20x22.jpg')\n",
        "imgM = readRGB('ico.jpg')\n",
        "near_imgA = cv2.resize(imgA,None, fx=5, fy=5, interpolation = cv2.INTER_NEAREST)\n",
        "near_imgM = cv2.resize(imgM,None, fx=5, fy=5, interpolation = cv2.INTER_NEAREST)\n",
        "displayColor2(near_imgA,near_imgM,'apple','señora')"
      ],
      "execution_count": 0,
      "outputs": []
    },
    {
      "cell_type": "code",
      "metadata": {
        "id": "EE7gyyvvT0ix",
        "colab_type": "code",
        "colab": {}
      },
      "source": [
        "imgA = readRGB('apple20x22.jpg')\n",
        "imgM = readRGB('ico.jpg')\n",
        "bill_imgA = cv2.resize(imgA,None, fx=5, fy=5, interpolation = cv2.INTER_LINEAR)\n",
        "bill_imgM = cv2.resize(imgM,None, fx=5, fy=5, interpolation = cv2.INTER_LINEAR)\n",
        "displayColor2(near_imgA,near_imgM,'apple','señora')"
      ],
      "execution_count": 0,
      "outputs": []
    },
    {
      "cell_type": "code",
      "metadata": {
        "id": "BcDqj85hT2rh",
        "colab_type": "code",
        "colab": {}
      },
      "source": [
        "imgA = readRGB('apple20x22.jpg')\n",
        "imgM = readRGB('ico.jpg')\n",
        "bicu_imgA = cv2.resize(imgA,None, fx=5, fy=5, interpolation = cv2.INTER_CUBIC)\n",
        "bicu_imgM = cv2.resize(imgM,None, fx=5, fy=5, interpolation = cv2.INTER_CUBIC)\n",
        "displayColor2(near_imgA,near_imgM,'apple','señora')"
      ],
      "execution_count": 0,
      "outputs": []
    },
    {
      "cell_type": "code",
      "metadata": {
        "id": "eG5jQ8uxT41R",
        "colab_type": "code",
        "colab": {}
      },
      "source": [
        "displayColor3(near_imgA, bill_imgA, bicu_imgA)"
      ],
      "execution_count": 0,
      "outputs": []
    },
    {
      "cell_type": "code",
      "metadata": {
        "id": "U3iW2jfgT6nC",
        "colab_type": "code",
        "colab": {}
      },
      "source": [
        "displayColor3(near_imgM, bill_imgM, bicu_imgM)"
      ],
      "execution_count": 0,
      "outputs": []
    },
    {
      "cell_type": "code",
      "metadata": {
        "id": "a4b4cGQdT8mC",
        "colab_type": "code",
        "colab": {}
      },
      "source": [
        "methods = [None, 'none', 'nearest', 'bilinear', 'bicubic', 'spline16', 'spline36', 'hanning', 'hamming', 'hermite', 'kaiser', 'quadric', 'catrom', 'gaussian', 'bessel', 'mitchell', 'sinc', 'lanczos']\n",
        "\n",
        "#grid = np.random.ran(4,4)\n",
        "grind=imgA\n",
        "\n",
        "fig, axes = plt.subplots(3, 6, figsize=(12,6),\n",
        "                         subplot_kw={'xticks':[], 'yticks': []})\n",
        "\n",
        "fig.subplots_adjust(hspace=0.3, wspace=0.05)\n",
        "\n",
        "for ax, interp_method in zip(axes.flat, methods):\n",
        "    ax.imshow(grind, interpolation=interp_method)\n",
        "    ax.set_title(interp_method)\n",
        "    \n",
        "plt.show()"
      ],
      "execution_count": 0,
      "outputs": []
    },
    {
      "cell_type": "code",
      "metadata": {
        "id": "BHP94uHQT-Wi",
        "colab_type": "code",
        "colab": {}
      },
      "source": [
        "methods = [None, 'none', 'nearest', 'bilinear', 'bicubic', 'spline16', 'spline36', 'hanning', 'hamming', 'hermite', 'kaiser', 'quadric', 'catrom', 'gaussian', 'bessel', 'mitchell', 'sinc', 'lanczos']\n",
        "\n",
        "grind = np.random.rand(4, 4)\n",
        "\n",
        "\n",
        "fig, axes = plt.subplots(3, 6, figsize=(12,6),\n",
        "                         subplot_kw={'xticks':[], 'yticks': []})\n",
        "\n",
        "fig.subplots_adjust(hspace=0.3, wspace=0.05)\n",
        "\n",
        "for ax, interp_method in zip(axes.flat, methods):\n",
        "    ax.imshow(grind, interpolation=interp_method)\n",
        "    ax.set_title(interp_method)\n",
        "    \n",
        "plt.show()"
      ],
      "execution_count": 0,
      "outputs": []
    },
    {
      "cell_type": "code",
      "metadata": {
        "id": "TruKIBJET_-i",
        "colab_type": "code",
        "colab": {}
      },
      "source": [
        "from PIL import Image\n",
        "\n",
        "foto = Image.open('playa.jpg')\n",
        "\n",
        "datos = list(foto.getdata())\n",
        "\n",
        "datos_invertidos = [(255 - datos[x][0], 255 - datos[x][1], 255 - datos[x][2]) for x in range(len(datos))]\n",
        "\n",
        "imagen_invertida = Image.new('RGB', foto.size)\n",
        "\n",
        "imagen_invertida.putdata(datos_invertidos)\n",
        "\n",
        "#imagen_invertida.save('playa2.jpg')\n",
        "\n",
        "plt.imshow(np.asarray(imagen_invertida))"
      ],
      "execution_count": 0,
      "outputs": []
    },
    {
      "cell_type": "code",
      "metadata": {
        "id": "0uGPTQNSUCsK",
        "colab_type": "code",
        "colab": {}
      },
      "source": [
        "from PIL import Image\n",
        "\n",
        "foto = Image.open('ojo.jpg')\n",
        "\n",
        "datos = foto.getdata()\n",
        "\n",
        "datos_invertidos = [255 - x for x in datos]\n",
        "\n",
        "imagen_invertida = Image.new('L', foto.size)\n",
        "\n",
        "imagen_invertida.putdata(datos_invertidos)\n",
        "\n",
        "#imagen_invertida.save('playa2.jpg')\n",
        "\n",
        "plt.imshow(np.asarray(imagen_invertida), cmap = 'gray')"
      ],
      "execution_count": 0,
      "outputs": []
    },
    {
      "cell_type": "code",
      "metadata": {
        "id": "0W48iaO1UEg6",
        "colab_type": "code",
        "colab": {}
      },
      "source": [
        "def negative(l):\n",
        "    #cargar imagen\n",
        "    img=cv2.imread(\"ojo.jpg\", cv2.IMREAD_GRAYSCALE)\n",
        "    rows, columns = img.shape\n",
        "    img2 = np.zeros((rows, columns), dtype = np.uint8)\n",
        "    for x in range(rows):\n",
        "        for y in range(columns):\n",
        "            img2[x,y] = (l-1)-img[x,y]\n",
        "    \n",
        "    displayGray2(img, img2, 'original', 'Negativo')\n",
        "    return\n",
        "\n",
        "negative(56)"
      ],
      "execution_count": 0,
      "outputs": []
    },
    {
      "cell_type": "code",
      "metadata": {
        "id": "_MYfWUxQUGJ6",
        "colab_type": "code",
        "colab": {}
      },
      "source": [
        "import cv2\n",
        "import numpy as np\n",
        "#load the image\n",
        "img=cv2.imread('ojo.jpg')\n",
        "#apply log transform\n",
        "img_log=(np.log(img+1)/(np.log(1+np.max(img))))*255\n",
        "#Specify the dataa type\n",
        "img_log = np.array(img_log, dtype=np.uint8)\n",
        "#Display the image\n",
        "displayGray2(img, img_log, 'original', 'log image')"
      ],
      "execution_count": 0,
      "outputs": []
    },
    {
      "cell_type": "markdown",
      "metadata": {
        "id": "aYjohI1iUG4a",
        "colab_type": "text"
      },
      "source": [
        "Aqui acaba interpolacion y transformacion\n"
      ]
    },
    {
      "cell_type": "code",
      "metadata": {
        "id": "u-CTU0UAUKt8",
        "colab_type": "code",
        "colab": {}
      },
      "source": [
        "import numpy as np\n",
        "import matplotlib.pyplot as plt\n",
        "import cv2\n",
        "import os\n",
        "\n",
        "path='/content/drive/My Drive/PDI/Rubix'\n",
        "os.chdir(path)\n",
        "!pwd\n",
        "# graficar imagenes estaticas en el notebook\n",
        "\n",
        "%matplotlib inline"
      ],
      "execution_count": 0,
      "outputs": []
    },
    {
      "cell_type": "code",
      "metadata": {
        "id": "BX_g-ypeUPH7",
        "colab_type": "code",
        "colab": {}
      },
      "source": [
        "def display4(a,b,c,d, title1 = \"Original\", title2 = \"Edited\", title3 = \"Edited\", title4 = \"Edited\"):\n",
        "    plt.figure(figsize=(12,4))\n",
        "    plt.subplot(141), plt.imshow(a), plt.title(title1)\n",
        "    plt.xticks([]), plt.yticks([])\n",
        "    plt.subplot(142), plt.imshow(b, cmap='gray'), plt.title(title2)\n",
        "    plt.xticks([]), plt.yticks([])\n",
        "    plt.subplot(143), plt.imshow(c, cmap = 'gray'), plt.title(title3)\n",
        "    plt.xticks([]), plt.yticks([])\n",
        "    plt.subplot(144), plt.imshow(d, cmap = 'gray'), plt.title(title4)\n",
        "    plt.xticks([]), plt.yticks([])\n",
        "    plt.show()"
      ],
      "execution_count": 0,
      "outputs": []
    },
    {
      "cell_type": "code",
      "metadata": {
        "id": "uSSsgBEOUSiL",
        "colab_type": "code",
        "colab": {}
      },
      "source": [
        "# Leer una imagen\n",
        "# principle of least astonishment (surprice) \n",
        "img_BGR=cv2.imread('rub07.jpg', cv2.IMREAD_COLOR)\n",
        "#b,g,r = cv2.split(img_BGR) \n",
        "\n",
        "b = img_BGR[:,:,0]\n",
        "g = img_BGR[:,:,1]\n",
        "r = img_BGR[:,:,2]\n",
        "\n",
        "display4(img_BGR,b,g,r,\"BGR\", \"b\", \"g\", \"r\")"
      ],
      "execution_count": 0,
      "outputs": []
    },
    {
      "cell_type": "code",
      "metadata": {
        "id": "UJvk6mtwUUEi",
        "colab_type": "code",
        "colab": {}
      },
      "source": [
        "count = 2 \n",
        "plt.figure(figsize=(12,4))\n",
        "plt.subplot(1,4,1), plt.imshow(img_BGR/255.0), plt.title(\"Original BGR\")\n",
        "plt.axis(\"off\")\n",
        "for i, lab in enumerate([\"R\",\"G\",\"B\"]):\n",
        "    crgb = np.zeros(img_BGR.shape)\n",
        "    crgb[:,:,i] = img_BGR[:,:,i]\n",
        "    plt.subplot(1,4,count), plt.imshow(crgb/255.0), plt.title(lab)\n",
        "    plt.axis(\"off\")\n",
        "    count += 1\n",
        "    \n",
        "plt.show()"
      ],
      "execution_count": 0,
      "outputs": []
    },
    {
      "cell_type": "code",
      "metadata": {
        "id": "5mb06jLeUV0T",
        "colab_type": "code",
        "colab": {}
      },
      "source": [
        "# pasar la imagen a rgb\n",
        "img_RGB=cv2.cvtColor(img_BGR,cv2.COLOR_BGR2RGB)\n",
        "r,g,b = cv2.split(img_RGB)\n",
        "\n",
        "display4(img_RGB,r,g,b,\"RGB\",\"r\",\"g\",\"b\")\n"
      ],
      "execution_count": 0,
      "outputs": []
    },
    {
      "cell_type": "code",
      "metadata": {
        "id": "RmQ0SCA5UXTs",
        "colab_type": "code",
        "colab": {}
      },
      "source": [
        "count = 2 \n",
        "plt.figure(figsize=(12,4))\n",
        "plt.subplot(1,4,1), plt.imshow(img_RGB/255.0), plt.title(\"Original RGB\")\n",
        "plt.axis(\"off\")\n",
        "for i, lab in enumerate([\"R\",\"G\",\"B\"]):\n",
        "    crgb = np.zeros(img_RGB.shape)\n",
        "    crgb[:,:,i] = img_RGB[:,:,i]\n",
        "    plt.subplot(1,4,count), plt.imshow(crgb/255.0), plt.title(lab)\n",
        "    plt.axis(\"off\")\n",
        "    count += 1\n",
        "    \n",
        "plt.show()"
      ],
      "execution_count": 0,
      "outputs": []
    },
    {
      "cell_type": "code",
      "metadata": {
        "id": "lc3Jv8-CUY6D",
        "colab_type": "code",
        "colab": {}
      },
      "source": [
        "#Pasar a LAB\n",
        "img_LAB=cv2.cvtColor(img_BGR, cv2.COLOR_BGR2LAB)\n",
        "L,A,B = cv2.split(img_LAB)\n",
        "\n",
        "display4(img_LAB,L,A,B, \"LAB\",\"L\",\"A\",\"B\")"
      ],
      "execution_count": 0,
      "outputs": []
    },
    {
      "cell_type": "code",
      "metadata": {
        "id": "OE7mkXllUe18",
        "colab_type": "code",
        "colab": {}
      },
      "source": [
        "#Pasar a YCrCb\n",
        "img_YCrCb=cv2.cvtColor(img_BGR, cv2.COLOR_BGR2YCrCb)\n",
        "Y,Cr,Cb = cv2.split(img_YCrCb)\n",
        "display4(img_YCrCb,Y,Cr,Cb,\"YCrCb\",\"Y\",\"Cr\",\"Cb\")"
      ],
      "execution_count": 0,
      "outputs": []
    },
    {
      "cell_type": "code",
      "metadata": {
        "id": "Q7y04SJ_UgO7",
        "colab_type": "code",
        "colab": {}
      },
      "source": [
        "#Pasar a HSV \n",
        "img_HSV=cv2.cvtColor(img_BGR, cv2.COLOR_BGR2HSV)\n",
        "H,S,V = cv2.split(img_HSV)\n",
        "display4(img_HSV,H,S,V,\"HSV\",\"H\",\"S\",\"V\")"
      ],
      "execution_count": 0,
      "outputs": []
    },
    {
      "cell_type": "markdown",
      "metadata": {
        "id": "xPC_zL5lUg6T",
        "colab_type": "text"
      },
      "source": [
        "aqui se acaban los colores."
      ]
    }
  ]
}